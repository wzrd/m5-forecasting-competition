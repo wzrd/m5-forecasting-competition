{
 "cells": [
  {
   "cell_type": "markdown",
   "metadata": {},
   "source": [
    "# 1. Loading Data"
   ]
  },
  {
   "cell_type": "code",
   "execution_count": 2,
   "metadata": {
    "_cell_guid": "b1076dfc-b9ad-4769-8c92-a6c4dae69d19",
    "_uuid": "8f2839f25d086af736a60e9eeb907d3b93b6e0e5"
   },
   "outputs": [
    {
     "name": "stderr",
     "output_type": "stream",
     "text": [
      "/usr/local/anaconda3/envs/data_science/lib/python3.8/site-packages/lightgbm/__init__.py:42: UserWarning: Starting from version 2.2.1, the library file in distribution wheels for macOS is built by the Apple Clang (Xcode_8.3.3) compiler.\n",
      "This means that in case of installing LightGBM from PyPI via the ``pip install lightgbm`` command, you don't need to install the gcc compiler anymore.\n",
      "Instead of that, you need to install the OpenMP library, which is required for running LightGBM on the system with the Apple Clang compiler.\n",
      "You can install the OpenMP library by the following command: ``brew install libomp``.\n",
      "  warnings.warn(\"Starting from version 2.2.1, the library file in distribution wheels for macOS \"\n"
     ]
    }
   ],
   "source": [
    "import sys\n",
    "import gc\n",
    "import os\n",
    "import warnings\n",
    "import pickle\n",
    "import statsmodels.api as sm\n",
    "from pylab import rcParams\n",
    "import time\n",
    "from  datetime import datetime, timedelta\n",
    "\n",
    "import pandas as pd\n",
    "from pandas.plotting import register_matplotlib_converters\n",
    "import numpy as np\n",
    "import matplotlib.pyplot as plt\n",
    "import seaborn as sns\n",
    "import lightgbm as lgb\n",
    "from sklearn.metrics import mean_squared_error\n",
    "from sklearn.preprocessing import LabelEncoder\n",
    "from sklearn import preprocessing, metrics\n",
    "\n",
    "warnings.filterwarnings(\"ignore\")\n",
    "\n",
    "pd.set_option(\"display.max_columns\", 500)\n",
    "pd.set_option(\"display.max_rows\", 500)\n",
    "\n",
    "register_matplotlib_converters()\n",
    "sns.set()"
   ]
  },
  {
   "cell_type": "markdown",
   "metadata": {},
   "source": [
    "## 1.1 Functions"
   ]
  },
  {
   "cell_type": "code",
   "execution_count": 3,
   "metadata": {},
   "outputs": [],
   "source": [
    "def reduce_mem_usage(df, verbose=True):\n",
    "    numerics = ['int16', 'int32', 'int64', 'float16', 'float32', 'float64']\n",
    "    start_mem = df.memory_usage().sum() / 1024**2    \n",
    "    for col in df.columns:\n",
    "        col_type = df[col].dtypes\n",
    "        if col_type in numerics:\n",
    "            c_min = df[col].min()\n",
    "            c_max = df[col].max()\n",
    "            if str(col_type)[:3] == 'int':\n",
    "                if c_min > np.iinfo(np.int8).min and c_max < np.iinfo(np.int8).max:\n",
    "                    df[col] = df[col].astype(np.int8)\n",
    "                elif c_min > np.iinfo(np.int16).min and c_max < np.iinfo(np.int16).max:\n",
    "                    df[col] = df[col].astype(np.int16)\n",
    "                elif c_min > np.iinfo(np.int32).min and c_max < np.iinfo(np.int32).max:\n",
    "                    df[col] = df[col].astype(np.int32)\n",
    "                elif c_min > np.iinfo(np.int64).min and c_max < np.iinfo(np.int64).max:\n",
    "                    df[col] = df[col].astype(np.int64)  \n",
    "            else:\n",
    "                if c_min > np.finfo(np.float16).min and c_max < np.finfo(np.float16).max:\n",
    "                    df[col] = df[col].astype(np.float16)\n",
    "                elif c_min > np.finfo(np.float32).min and c_max < np.finfo(np.float32).max:\n",
    "                    df[col] = df[col].astype(np.float32)\n",
    "                else:\n",
    "                    df[col] = df[col].astype(np.float64)    \n",
    "    end_mem = df.memory_usage().sum() / 1024**2\n",
    "    if verbose: print('Mem. usage decreased to {:5.2f} Mb ({:.1f}% reduction)'.format(end_mem, 100 * (start_mem - end_mem) / start_mem))\n",
    "    return df\n",
    "\n",
    "\n",
    "def display_missing(df):    \n",
    "    for col in df.columns.tolist():  \n",
    "        if df[col].isnull().sum() != 0:\n",
    "            print('{} column missing values: {}'.format(col, df[col].isnull().sum()))\n",
    "    print('\\n')\n",
    "    \n"
   ]
  },
  {
   "cell_type": "markdown",
   "metadata": {},
   "source": [
    "## 1.2 Loading data grid"
   ]
  },
  {
   "cell_type": "code",
   "execution_count": 4,
   "metadata": {},
   "outputs": [
    {
     "name": "stdout",
     "output_type": "stream",
     "text": [
      "Loading the data...\n"
     ]
    }
   ],
   "source": [
    "print('Loading the data...')\n",
    "DATA_GRID_INPUT_DIR = '.'\n",
    "\n",
    "data = pd.read_pickle(f'{DATA_GRID_INPUT_DIR}/m5_data_model2.pkl')"
   ]
  },
  {
   "cell_type": "markdown",
   "metadata": {},
   "source": [
    "## 1.3 Init variables"
   ]
  },
  {
   "cell_type": "code",
   "execution_count": 5,
   "metadata": {},
   "outputs": [],
   "source": [
    "h = 28 # Prediction horizon\n",
    "max_lags = 366 # Max lags used\n",
    "TRAINING_LAST_DAY_NUM = 1913 # Last day for training data\n",
    "FIRST_PRED_DAY = datetime(2016,4, 25) # First prediction day\n",
    "FIRST_LOADING_DAY = datetime(2013, 4,7) # First day for training\n",
    "FIRST_LOADING_DAY_NUM = 800\n"
   ]
  },
  {
   "cell_type": "markdown",
   "metadata": {},
   "source": [
    "## 1.4 Cuting the dataset"
   ]
  },
  {
   "cell_type": "code",
   "execution_count": 6,
   "metadata": {},
   "outputs": [],
   "source": [
    "# Determine first needed day for training\n",
    "# data = data.loc[data['date'] >= FIRST_LOADING_DAY] # So we will have space for lag and rolling features\n",
    "# gc.collect()\n",
    "# data.shape"
   ]
  },
  {
   "cell_type": "markdown",
   "metadata": {},
   "source": [
    "# 2. Feature Engineering"
   ]
  },
  {
   "cell_type": "markdown",
   "metadata": {},
   "source": [
    "## Add Item column:\n"
   ]
  },
  {
   "cell_type": "code",
   "execution_count": 7,
   "metadata": {},
   "outputs": [],
   "source": [
    "#data['items']=round(data['demand']/ data['sell_price'])"
   ]
  },
  {
   "cell_type": "markdown",
   "metadata": {},
   "source": [
    "77% of daily item sales are zero :\n",
    "\n"
   ]
  },
  {
   "cell_type": "code",
   "execution_count": 8,
   "metadata": {},
   "outputs": [],
   "source": [
    "#data.loc[data['items']==0, :].shape[0] / data.shape[0]"
   ]
  },
  {
   "cell_type": "markdown",
   "metadata": {},
   "source": [
    "## Add rolling and lagged features"
   ]
  },
  {
   "cell_type": "code",
   "execution_count": 9,
   "metadata": {},
   "outputs": [],
   "source": [
    "# SHIFT_DAYS = 28\n",
    "\n",
    "# print('Adding demand lag and rolling features')\n",
    "\n",
    "# for val in [28, 29, 30, 31, 32, 33, 34, 35]:\n",
    "#         data[f\"lag_t{val}\"] = data.groupby([\"id\"])[\"demand\"].transform(lambda x: x.shift(val)).astype(np.float16)\n",
    "\n",
    "# for val in [7, 14, 30, 60, 180]:\n",
    "#         data[f\"rolling_mean_t{val}\"] = data.groupby([\"id\"])[\"demand\"].transform(lambda x: x.shift(SHIFT_DAYS).rolling(val).mean()).astype(np.float16)\n",
    "#         data[f\"rolling_std_t{val}\"] = data.groupby([\"id\"])[\"demand\"].transform(lambda x: x.shift(SHIFT_DAYS).rolling(val).std()).astype(np.float16)        \n",
    "#         data[f\"rolling_max_t{val}\"] = data.groupby([\"id\"])[\"demand\"].transform(lambda x: x.shift(SHIFT_DAYS).rolling(val).max()).astype(np.float16)\n",
    "        \n"
   ]
  },
  {
   "cell_type": "markdown",
   "metadata": {},
   "source": [
    "## Adding price related features"
   ]
  },
  {
   "cell_type": "code",
   "execution_count": 10,
   "metadata": {},
   "outputs": [],
   "source": [
    "# data['price_max'] = data.groupby(['store_id','item_id'])['sell_price'].transform('max').astype(np.float16)\n",
    "# data['price_min'] = data.groupby(['store_id','item_id'])['sell_price'].transform('min').astype(np.float16)\n",
    "# data['price_std'] = data.groupby(['store_id','item_id'])['sell_price'].transform('std').astype(np.float16)\n",
    "# data['price_mean'] = data.groupby(['store_id','item_id'])['sell_price'].transform('mean').astype(np.float16)\n",
    "\n",
    "# data[\"rolling_price_mean_t42\"] = data.groupby([\"id\"])[\"sell_price\"].transform(lambda x: x.rolling(42).mean()).astype(np.float16)\n",
    "# data['price_momentum_t42'] = data['sell_price'] / data['rolling_price_mean_t42']\n",
    "\n"
   ]
  },
  {
   "cell_type": "markdown",
   "metadata": {},
   "source": [
    "## Creating features\n"
   ]
  },
  {
   "cell_type": "code",
   "execution_count": 12,
   "metadata": {},
   "outputs": [],
   "source": [
    "def create_features(dt):\n",
    "    lags = [7, 28]\n",
    "    lag_cols = [f\"lag_{lag}\" for lag in lags ]\n",
    "    for lag, lag_col in zip(lags, lag_cols):\n",
    "        dt[lag_col] = dt[[\"id\",\"sales\"]].groupby(\"id\")[\"sales\"].shift(lag).astype(np.float16)\n",
    "\n",
    "    wins = [7, 28]\n",
    "    for win in wins :\n",
    "        for lag,lag_col in zip(lags, lag_cols):\n",
    "            dt[f\"rmean_{lag}_{win}\"] = dt[[\"id\", lag_col]].groupby(\"id\")[lag_col].transform(lambda x : x.rolling(win).mean()).astype(np.float16)\n",
    "\n",
    "    \n",
    "    \n",
    "    date_features = {\n",
    "        \n",
    "        \"wday\": \"weekday\",\n",
    "        \"woy\": \"weekofyear\",\n",
    "        \"month\": \"month\",\n",
    "        \"quarter\": \"quarter\",\n",
    "        \"year\": \"year\",\n",
    "        \"mday\": \"day\",\n",
    "#         \"ime\": \"is_month_end\",\n",
    "#         \"ims\": \"is_month_start\",\n",
    "    }\n",
    "    \n",
    "#     dt.drop([\"d\", \"wm_yr_wk\", \"weekday\"], axis=1, inplace = True)\n",
    "    \n",
    "    for date_feat_name, date_feat_func in date_features.items():\n",
    "        if date_feat_name in dt.columns:\n",
    "            dt[date_feat_name] = dt[date_feat_name].astype(\"int16\")\n",
    "        else:\n",
    "            dt[date_feat_name] = getattr(dt[\"date\"].dt, date_feat_func).astype(\"int16\")\n"
   ]
  },
  {
   "cell_type": "code",
   "execution_count": 13,
   "metadata": {},
   "outputs": [
    {
     "name": "stdout",
     "output_type": "stream",
     "text": [
      "CPU times: user 1min 49s, sys: 3.38 s, total: 1min 52s\n",
      "Wall time: 1min 55s\n"
     ]
    }
   ],
   "source": [
    "%%time\n",
    "create_features(data)"
   ]
  },
  {
   "cell_type": "code",
   "execution_count": 14,
   "metadata": {},
   "outputs": [
    {
     "name": "stdout",
     "output_type": "stream",
     "text": [
      "<class 'pandas.core.frame.DataFrame'>\n",
      "Int64Index: 31522396 entries, 0 to 31522395\n",
      "Data columns (total 31 columns):\n",
      " #   Column        Dtype         \n",
      "---  ------        -----         \n",
      " 0   id            object        \n",
      " 1   item_id       int16         \n",
      " 2   dept_id       int8          \n",
      " 3   store_id      int8          \n",
      " 4   cat_id        int8          \n",
      " 5   state_id      int8          \n",
      " 6   d             object        \n",
      " 7   sales         float16       \n",
      " 8   date          datetime64[ns]\n",
      " 9   wm_yr_wk      int16         \n",
      " 10  weekday       int8          \n",
      " 11  wday          int16         \n",
      " 12  month         int16         \n",
      " 13  year          int16         \n",
      " 14  event_name_1  int8          \n",
      " 15  event_type_1  int8          \n",
      " 16  event_name_2  int8          \n",
      " 17  event_type_2  int8          \n",
      " 18  snap_CA       float16       \n",
      " 19  snap_TX       float16       \n",
      " 20  snap_WI       float16       \n",
      " 21  sell_price    float16       \n",
      " 22  lag_7         float16       \n",
      " 23  lag_28        float16       \n",
      " 24  rmean_7_7     float16       \n",
      " 25  rmean_28_7    float16       \n",
      " 26  rmean_7_28    float16       \n",
      " 27  rmean_28_28   float16       \n",
      " 28  woy           int16         \n",
      " 29  quarter       int16         \n",
      " 30  mday          int16         \n",
      "dtypes: datetime64[ns](1), float16(11), int16(8), int8(9), object(2)\n",
      "memory usage: 2.3+ GB\n"
     ]
    }
   ],
   "source": [
    "data.info()"
   ]
  },
  {
   "cell_type": "code",
   "execution_count": 15,
   "metadata": {},
   "outputs": [
    {
     "data": {
      "text/plain": [
       "(29845446, 31)"
      ]
     },
     "execution_count": 15,
     "metadata": {},
     "output_type": "execute_result"
    }
   ],
   "source": [
    "data.dropna(inplace = True)\n",
    "data.shape"
   ]
  },
  {
   "cell_type": "markdown",
   "metadata": {},
   "source": [
    "## Reduce mem usage of created features"
   ]
  },
  {
   "cell_type": "code",
   "execution_count": 16,
   "metadata": {},
   "outputs": [
    {
     "name": "stdout",
     "output_type": "stream",
     "text": [
      "Mem. usage decreased to 2106.25 Mb (6.3% reduction)\n"
     ]
    }
   ],
   "source": [
    "data = reduce_mem_usage(data)"
   ]
  },
  {
   "cell_type": "markdown",
   "metadata": {},
   "source": [
    "# 3. Fit & Predict"
   ]
  },
  {
   "cell_type": "code",
   "execution_count": 17,
   "metadata": {},
   "outputs": [
    {
     "name": "stdout",
     "output_type": "stream",
     "text": [
      "Data usage: 6.16714658 GB\n"
     ]
    },
    {
     "data": {
      "text/html": [
       "<div>\n",
       "<style scoped>\n",
       "    .dataframe tbody tr th:only-of-type {\n",
       "        vertical-align: middle;\n",
       "    }\n",
       "\n",
       "    .dataframe tbody tr th {\n",
       "        vertical-align: top;\n",
       "    }\n",
       "\n",
       "    .dataframe thead th {\n",
       "        text-align: right;\n",
       "    }\n",
       "</style>\n",
       "<table border=\"1\" class=\"dataframe\">\n",
       "  <thead>\n",
       "    <tr style=\"text-align: right;\">\n",
       "      <th></th>\n",
       "      <th>id</th>\n",
       "      <th>item_id</th>\n",
       "      <th>dept_id</th>\n",
       "      <th>store_id</th>\n",
       "      <th>cat_id</th>\n",
       "      <th>state_id</th>\n",
       "      <th>d</th>\n",
       "      <th>sales</th>\n",
       "      <th>date</th>\n",
       "      <th>wm_yr_wk</th>\n",
       "      <th>weekday</th>\n",
       "      <th>wday</th>\n",
       "      <th>month</th>\n",
       "      <th>year</th>\n",
       "      <th>event_name_1</th>\n",
       "      <th>event_type_1</th>\n",
       "      <th>event_name_2</th>\n",
       "      <th>event_type_2</th>\n",
       "      <th>snap_CA</th>\n",
       "      <th>snap_TX</th>\n",
       "      <th>snap_WI</th>\n",
       "      <th>sell_price</th>\n",
       "      <th>lag_7</th>\n",
       "      <th>lag_28</th>\n",
       "      <th>rmean_7_7</th>\n",
       "      <th>rmean_28_7</th>\n",
       "      <th>rmean_7_28</th>\n",
       "      <th>rmean_28_28</th>\n",
       "      <th>woy</th>\n",
       "      <th>quarter</th>\n",
       "      <th>mday</th>\n",
       "    </tr>\n",
       "  </thead>\n",
       "  <tbody>\n",
       "    <tr>\n",
       "      <th>1309434</th>\n",
       "      <td>HOBBIES_1_002_CA_1_validation</td>\n",
       "      <td>1</td>\n",
       "      <td>0</td>\n",
       "      <td>0</td>\n",
       "      <td>0</td>\n",
       "      <td>0</td>\n",
       "      <td>d_855</td>\n",
       "      <td>0.0</td>\n",
       "      <td>2013-06-01</td>\n",
       "      <td>11319</td>\n",
       "      <td>2</td>\n",
       "      <td>1</td>\n",
       "      <td>6</td>\n",
       "      <td>2013</td>\n",
       "      <td>0</td>\n",
       "      <td>0</td>\n",
       "      <td>0</td>\n",
       "      <td>0</td>\n",
       "      <td>1.0</td>\n",
       "      <td>1.0</td>\n",
       "      <td>0.0</td>\n",
       "      <td>3.970703</td>\n",
       "      <td>0.0</td>\n",
       "      <td>1.0</td>\n",
       "      <td>0.142822</td>\n",
       "      <td>0.142822</td>\n",
       "      <td>0.285645</td>\n",
       "      <td>0.142822</td>\n",
       "      <td>22</td>\n",
       "      <td>2</td>\n",
       "      <td>1</td>\n",
       "    </tr>\n",
       "    <tr>\n",
       "      <th>1309435</th>\n",
       "      <td>HOBBIES_1_002_CA_1_validation</td>\n",
       "      <td>1</td>\n",
       "      <td>0</td>\n",
       "      <td>0</td>\n",
       "      <td>0</td>\n",
       "      <td>0</td>\n",
       "      <td>d_856</td>\n",
       "      <td>0.0</td>\n",
       "      <td>2013-06-02</td>\n",
       "      <td>11319</td>\n",
       "      <td>3</td>\n",
       "      <td>2</td>\n",
       "      <td>6</td>\n",
       "      <td>2013</td>\n",
       "      <td>0</td>\n",
       "      <td>0</td>\n",
       "      <td>0</td>\n",
       "      <td>0</td>\n",
       "      <td>1.0</td>\n",
       "      <td>0.0</td>\n",
       "      <td>1.0</td>\n",
       "      <td>3.970703</td>\n",
       "      <td>0.0</td>\n",
       "      <td>1.0</td>\n",
       "      <td>0.142822</td>\n",
       "      <td>0.285645</td>\n",
       "      <td>0.285645</td>\n",
       "      <td>0.178589</td>\n",
       "      <td>22</td>\n",
       "      <td>2</td>\n",
       "      <td>2</td>\n",
       "    </tr>\n",
       "    <tr>\n",
       "      <th>1309436</th>\n",
       "      <td>HOBBIES_1_002_CA_1_validation</td>\n",
       "      <td>1</td>\n",
       "      <td>0</td>\n",
       "      <td>0</td>\n",
       "      <td>0</td>\n",
       "      <td>0</td>\n",
       "      <td>d_857</td>\n",
       "      <td>1.0</td>\n",
       "      <td>2013-06-03</td>\n",
       "      <td>11319</td>\n",
       "      <td>1</td>\n",
       "      <td>3</td>\n",
       "      <td>6</td>\n",
       "      <td>2013</td>\n",
       "      <td>0</td>\n",
       "      <td>0</td>\n",
       "      <td>0</td>\n",
       "      <td>0</td>\n",
       "      <td>1.0</td>\n",
       "      <td>1.0</td>\n",
       "      <td>1.0</td>\n",
       "      <td>3.970703</td>\n",
       "      <td>0.0</td>\n",
       "      <td>0.0</td>\n",
       "      <td>0.142822</td>\n",
       "      <td>0.285645</td>\n",
       "      <td>0.285645</td>\n",
       "      <td>0.178589</td>\n",
       "      <td>23</td>\n",
       "      <td>2</td>\n",
       "      <td>3</td>\n",
       "    </tr>\n",
       "    <tr>\n",
       "      <th>1309437</th>\n",
       "      <td>HOBBIES_1_002_CA_1_validation</td>\n",
       "      <td>1</td>\n",
       "      <td>0</td>\n",
       "      <td>0</td>\n",
       "      <td>0</td>\n",
       "      <td>0</td>\n",
       "      <td>d_858</td>\n",
       "      <td>1.0</td>\n",
       "      <td>2013-06-04</td>\n",
       "      <td>11319</td>\n",
       "      <td>5</td>\n",
       "      <td>4</td>\n",
       "      <td>6</td>\n",
       "      <td>2013</td>\n",
       "      <td>0</td>\n",
       "      <td>0</td>\n",
       "      <td>0</td>\n",
       "      <td>0</td>\n",
       "      <td>1.0</td>\n",
       "      <td>0.0</td>\n",
       "      <td>0.0</td>\n",
       "      <td>3.970703</td>\n",
       "      <td>0.0</td>\n",
       "      <td>0.0</td>\n",
       "      <td>0.142822</td>\n",
       "      <td>0.285645</td>\n",
       "      <td>0.285645</td>\n",
       "      <td>0.178589</td>\n",
       "      <td>23</td>\n",
       "      <td>2</td>\n",
       "      <td>4</td>\n",
       "    </tr>\n",
       "    <tr>\n",
       "      <th>1309438</th>\n",
       "      <td>HOBBIES_1_002_CA_1_validation</td>\n",
       "      <td>1</td>\n",
       "      <td>0</td>\n",
       "      <td>0</td>\n",
       "      <td>0</td>\n",
       "      <td>0</td>\n",
       "      <td>d_859</td>\n",
       "      <td>0.0</td>\n",
       "      <td>2013-06-05</td>\n",
       "      <td>11319</td>\n",
       "      <td>6</td>\n",
       "      <td>5</td>\n",
       "      <td>6</td>\n",
       "      <td>2013</td>\n",
       "      <td>0</td>\n",
       "      <td>0</td>\n",
       "      <td>0</td>\n",
       "      <td>0</td>\n",
       "      <td>1.0</td>\n",
       "      <td>1.0</td>\n",
       "      <td>1.0</td>\n",
       "      <td>3.970703</td>\n",
       "      <td>0.0</td>\n",
       "      <td>0.0</td>\n",
       "      <td>0.142822</td>\n",
       "      <td>0.285645</td>\n",
       "      <td>0.285645</td>\n",
       "      <td>0.178589</td>\n",
       "      <td>23</td>\n",
       "      <td>2</td>\n",
       "      <td>5</td>\n",
       "    </tr>\n",
       "  </tbody>\n",
       "</table>\n",
       "</div>"
      ],
      "text/plain": [
       "                                    id  item_id  dept_id  store_id  cat_id  \\\n",
       "1309434  HOBBIES_1_002_CA_1_validation        1        0         0       0   \n",
       "1309435  HOBBIES_1_002_CA_1_validation        1        0         0       0   \n",
       "1309436  HOBBIES_1_002_CA_1_validation        1        0         0       0   \n",
       "1309437  HOBBIES_1_002_CA_1_validation        1        0         0       0   \n",
       "1309438  HOBBIES_1_002_CA_1_validation        1        0         0       0   \n",
       "\n",
       "         state_id      d  sales       date  wm_yr_wk  weekday  wday  month  \\\n",
       "1309434         0  d_855    0.0 2013-06-01     11319        2     1      6   \n",
       "1309435         0  d_856    0.0 2013-06-02     11319        3     2      6   \n",
       "1309436         0  d_857    1.0 2013-06-03     11319        1     3      6   \n",
       "1309437         0  d_858    1.0 2013-06-04     11319        5     4      6   \n",
       "1309438         0  d_859    0.0 2013-06-05     11319        6     5      6   \n",
       "\n",
       "         year  event_name_1  event_type_1  event_name_2  event_type_2  \\\n",
       "1309434  2013             0             0             0             0   \n",
       "1309435  2013             0             0             0             0   \n",
       "1309436  2013             0             0             0             0   \n",
       "1309437  2013             0             0             0             0   \n",
       "1309438  2013             0             0             0             0   \n",
       "\n",
       "         snap_CA  snap_TX  snap_WI  sell_price  lag_7  lag_28  rmean_7_7  \\\n",
       "1309434      1.0      1.0      0.0    3.970703    0.0     1.0   0.142822   \n",
       "1309435      1.0      0.0      1.0    3.970703    0.0     1.0   0.142822   \n",
       "1309436      1.0      1.0      1.0    3.970703    0.0     0.0   0.142822   \n",
       "1309437      1.0      0.0      0.0    3.970703    0.0     0.0   0.142822   \n",
       "1309438      1.0      1.0      1.0    3.970703    0.0     0.0   0.142822   \n",
       "\n",
       "         rmean_28_7  rmean_7_28  rmean_28_28  woy  quarter  mday  \n",
       "1309434    0.142822    0.285645     0.142822   22        2     1  \n",
       "1309435    0.285645    0.285645     0.178589   22        2     2  \n",
       "1309436    0.285645    0.285645     0.178589   23        2     3  \n",
       "1309437    0.285645    0.285645     0.178589   23        2     4  \n",
       "1309438    0.285645    0.285645     0.178589   23        2     5  "
      ]
     },
     "execution_count": 17,
     "metadata": {},
     "output_type": "execute_result"
    }
   ],
   "source": [
    "print('Data usage: {} GB'.format(data.memory_usage(deep=True).sum() / 10**9))\n",
    "data.head()"
   ]
  },
  {
   "cell_type": "code",
   "execution_count": 18,
   "metadata": {},
   "outputs": [],
   "source": [
    "cat_feats = ['item_id', 'dept_id','store_id', 'cat_id', 'state_id'] + [\"event_name_1\", \"event_name_2\", \"event_type_1\", \"event_type_2\"]\n",
    "useless_cols = [\"id\", \"date\", \"sales\",\"d\", \"wm_yr_wk\", \"weekday\"]\n",
    "train_cols = data.columns[~data.columns.isin(useless_cols)]\n",
    "X_train = data[train_cols]\n",
    "y_train = data[\"sales\"]"
   ]
  },
  {
   "cell_type": "code",
   "execution_count": 19,
   "metadata": {},
   "outputs": [],
   "source": [
    "train_data = lgb.Dataset(X_train, label = y_train, categorical_feature=cat_feats, free_raw_data=False)\n",
    "fake_valid_inds = np.random.choice(len(X_train), 1000000)\n",
    "fake_valid_data = lgb.Dataset(X_train.iloc[fake_valid_inds], label = y_train.iloc[fake_valid_inds],categorical_feature=cat_feats,\n",
    "                             free_raw_data=False)   # This is just a subsample of the training set, not a real validation set !\n"
   ]
  },
  {
   "cell_type": "code",
   "execution_count": 20,
   "metadata": {},
   "outputs": [],
   "source": [
    "params = {\n",
    "        \"objective\" : \"poisson\",\n",
    "        \"metric\" :\"rmse\",\n",
    "        \"force_row_wise\" : True,\n",
    "        \"learning_rate\" : 0.075,\n",
    "#         \"sub_feature\" : 0.8,\n",
    "        \"sub_row\" : 0.75,\n",
    "        \"bagging_freq\" : 1,\n",
    "        \"lambda_l2\" : 0.1,\n",
    "#         \"nthread\" : 4\n",
    "        \"metric\": [\"rmse\"],\n",
    "    'verbosity': 1,\n",
    "    'num_iterations' : 1500,\n",
    "}"
   ]
  },
  {
   "cell_type": "code",
   "execution_count": 21,
   "metadata": {},
   "outputs": [
    {
     "name": "stdout",
     "output_type": "stream",
     "text": [
      "[50]\tvalid_0's rmse: 3.27223\n",
      "[100]\tvalid_0's rmse: 2.45379\n",
      "[150]\tvalid_0's rmse: 2.38674\n",
      "[200]\tvalid_0's rmse: 2.34216\n",
      "[250]\tvalid_0's rmse: 2.31521\n",
      "[300]\tvalid_0's rmse: 2.29095\n",
      "[350]\tvalid_0's rmse: 2.27404\n",
      "[400]\tvalid_0's rmse: 2.26036\n",
      "[450]\tvalid_0's rmse: 2.24794\n",
      "[500]\tvalid_0's rmse: 2.23768\n",
      "[550]\tvalid_0's rmse: 2.22926\n",
      "[600]\tvalid_0's rmse: 2.21761\n",
      "[650]\tvalid_0's rmse: 2.21128\n",
      "[700]\tvalid_0's rmse: 2.20572\n",
      "[750]\tvalid_0's rmse: 2.19892\n",
      "[800]\tvalid_0's rmse: 2.19387\n",
      "[850]\tvalid_0's rmse: 2.18988\n",
      "[900]\tvalid_0's rmse: 2.18453\n",
      "[950]\tvalid_0's rmse: 2.17821\n",
      "[1000]\tvalid_0's rmse: 2.17262\n",
      "[1050]\tvalid_0's rmse: 2.16728\n",
      "[1100]\tvalid_0's rmse: 2.16357\n",
      "[1150]\tvalid_0's rmse: 2.15982\n",
      "[1200]\tvalid_0's rmse: 2.15672\n",
      "[1250]\tvalid_0's rmse: 2.15319\n",
      "[1300]\tvalid_0's rmse: 2.14932\n",
      "[1350]\tvalid_0's rmse: 2.14674\n",
      "[1400]\tvalid_0's rmse: 2.14442\n",
      "[1450]\tvalid_0's rmse: 2.1412\n",
      "[1500]\tvalid_0's rmse: 2.13911\n",
      "CPU times: user 2h 55min 4s, sys: 41.1 s, total: 2h 55min 45s\n",
      "Wall time: 47min 44s\n"
     ]
    }
   ],
   "source": [
    "%%time\n",
    "\n",
    "m_lgb = lgb.train(params, train_data, valid_sets = [fake_valid_data], verbose_eval=50) "
   ]
  },
  {
   "cell_type": "code",
   "execution_count": 23,
   "metadata": {},
   "outputs": [
    {
     "data": {
      "text/plain": [
       "0"
      ]
     },
     "execution_count": 23,
     "metadata": {},
     "output_type": "execute_result"
    }
   ],
   "source": [
    "os.system('say \"Training complete\"')"
   ]
  },
  {
   "cell_type": "code",
   "execution_count": 24,
   "metadata": {},
   "outputs": [
    {
     "data": {
      "image/png": "[encoded data removed]",
      "text/plain": [
       "<Figure size 432x288 with 1 Axes>"
      ]
     },
     "metadata": {},
     "output_type": "display_data"
    }
   ],
   "source": [
    "feature_importance = pd.DataFrame({\"Value\": m_lgb.feature_importance(), \"Feature\": m_lgb.feature_name()}) \\\n",
    "                    .sort_values(by=\"Value\", ascending=False)\n",
    "\n",
    "sns.barplot(x=\"Value\", y=\"Feature\", data=feature_importance)\n",
    "plt.title('LightGBM Features')\n",
    "plt.tight_layout()\n",
    "plt.show()"
   ]
  },
  {
   "cell_type": "code",
   "execution_count": 25,
   "metadata": {
    "scrolled": true
   },
   "outputs": [],
   "source": [
    "# Detection of features with zero-importance\n",
    "# zero_features = list(feature_importance[feature_importance['Value'] == 0]['Feature'])\n",
    "# print('\\nThere are {} features with 0.0 importance'.format(len(zero_features)))\n",
    "# print(zero_features)\n",
    "# feature_importance"
   ]
  },
  {
   "cell_type": "code",
   "execution_count": 26,
   "metadata": {},
   "outputs": [
    {
     "name": "stdout",
     "output_type": "stream",
     "text": [
      "CPU times: user 424 ms, sys: 365 ms, total: 789 ms\n",
      "Wall time: 886 ms\n"
     ]
    }
   ],
   "source": [
    "%%time \n",
    "#load_day = FIRST_PRED_DAY - timedelta(days=max_lags)\n",
    "#test_data = data[data.date >= load_day]\n",
    "tdata = pd.read_pickle(f'{DATA_GRID_INPUT_DIR}/m5_data_test_model2.pkl')"
   ]
  },
  {
   "cell_type": "code",
   "execution_count": 27,
   "metadata": {},
   "outputs": [
    {
     "name": "stdout",
     "output_type": "stream",
     "text": [
      "0 2016-04-25 00:00:00\n",
      "1 2016-04-26 00:00:00\n",
      "2 2016-04-27 00:00:00\n",
      "3 2016-04-28 00:00:00\n",
      "4 2016-04-29 00:00:00\n",
      "5 2016-04-30 00:00:00\n",
      "6 2016-05-01 00:00:00\n",
      "7 2016-05-02 00:00:00\n",
      "8 2016-05-03 00:00:00\n",
      "9 2016-05-04 00:00:00\n",
      "10 2016-05-05 00:00:00\n",
      "11 2016-05-06 00:00:00\n",
      "12 2016-05-07 00:00:00\n",
      "13 2016-05-08 00:00:00\n",
      "14 2016-05-09 00:00:00\n",
      "15 2016-05-10 00:00:00\n",
      "16 2016-05-11 00:00:00\n",
      "17 2016-05-12 00:00:00\n",
      "18 2016-05-13 00:00:00\n",
      "19 2016-05-14 00:00:00\n",
      "20 2016-05-15 00:00:00\n",
      "21 2016-05-16 00:00:00\n",
      "22 2016-05-17 00:00:00\n",
      "23 2016-05-18 00:00:00\n",
      "24 2016-05-19 00:00:00\n",
      "25 2016-05-20 00:00:00\n",
      "26 2016-05-21 00:00:00\n",
      "27 2016-05-22 00:00:00\n",
      "CPU times: user 39min 41s, sys: 34.3 s, total: 40min 15s\n",
      "Wall time: 36min 47s\n"
     ]
    }
   ],
   "source": [
    "%%time\n",
    "\n",
    "for i in range(0, 28):\n",
    "    day = FIRST_PRED_DAY + timedelta(days=i)\n",
    "    print(i, day)\n",
    "    tst = tdata[(tdata.date >= day - timedelta(days=max_lags)) & (tdata.date <= day)].copy()\n",
    "    create_features(tst)\n",
    "    tst = tst.loc[tst.date == day , train_cols]\n",
    "    tdata.loc[tdata.date == day, \"sales\"] = 1.02*m_lgb.predict(tst) # magic multiplier by kyakovlev\n"
   ]
  },
  {
   "cell_type": "code",
   "execution_count": 28,
   "metadata": {},
   "outputs": [
    {
     "data": {
      "text/plain": [
       "0"
      ]
     },
     "execution_count": 28,
     "metadata": {},
     "output_type": "execute_result"
    }
   ],
   "source": [
    "os.system('say \"Prediction complete\"')"
   ]
  },
  {
   "cell_type": "code",
   "execution_count": 29,
   "metadata": {},
   "outputs": [
    {
     "name": "stdout",
     "output_type": "stream",
     "text": [
      "CPU times: user 4.38 s, sys: 470 ms, total: 4.85 s\n",
      "Wall time: 4.98 s\n"
     ]
    },
    {
     "data": {
      "text/plain": [
       "(60980, 29)"
      ]
     },
     "execution_count": 29,
     "metadata": {},
     "output_type": "execute_result"
    }
   ],
   "source": [
    "%%time\n",
    "\n",
    "tdata_sub = tdata.loc[tdata.date >= FIRST_PRED_DAY, [\"id\", \"sales\"]].copy()\n",
    "tdata_sub.loc[tdata.date >= FIRST_PRED_DAY+ timedelta(days=h), \"id\"] = tdata_sub.loc[tdata.date >= FIRST_PRED_DAY+timedelta(days=h), \n",
    "                                                                     \"id\"].str.replace(\"validation$\", \"evaluation\")\n",
    "tdata_sub[\"F\"] = [f\"F{rank}\" for rank in tdata_sub.groupby(\"id\")[\"id\"].cumcount()+1]\n",
    "tdata_sub = tdata_sub.set_index([\"id\", \"F\" ]).unstack()[\"sales\"][[f\"F{i}\" for i in range(1,29)]].reset_index()\n",
    "tdata_sub.fillna(0., inplace = True)\n",
    "tdata_sub.to_csv(\"submission.csv\",index=False)\n",
    "tdata_sub.shape\n"
   ]
  },
  {
   "cell_type": "code",
   "execution_count": null,
   "metadata": {},
   "outputs": [],
   "source": []
  }
 ],
 "metadata": {
  "kernelspec": {
   "display_name": "Data Science",
   "language": "python",
   "name": "data_science"
  },
  "language_info": {
   "codemirror_mode": {
    "name": "ipython",
    "version": 3
   },
   "file_extension": ".py",
   "mimetype": "text/x-python",
   "name": "python",
   "nbconvert_exporter": "python",
   "pygments_lexer": "ipython3",
   "version": "3.8.1"
  }
 },
 "nbformat": 4,
 "nbformat_minor": 4
}
